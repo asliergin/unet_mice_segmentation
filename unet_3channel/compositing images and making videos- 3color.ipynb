{
 "cells": [
  {
   "cell_type": "code",
   "execution_count": 1,
   "metadata": {},
   "outputs": [],
   "source": [
    "from PIL import Image\n",
    "import os\n",
    "import numpy as np\n",
    "import cv2\n",
    "import glob\n",
    "\n"
   ]
  },
  {
   "cell_type": "code",
   "execution_count": 2,
   "metadata": {},
   "outputs": [],
   "source": [
    "#threshold 3 color test images to visualize the colon better\n",
    "'''\n",
    "if not os.path.exists('data3d/red_extracted'):\n",
    "    os.makedirs('data3d/red_extracted')\n",
    "    \n",
    "if not os.path.exists('data3d/green_extracted'):\n",
    "    os.makedirs('data3d/green_extracted')\n",
    "\n",
    "if not os.path.exists('data3d/blue_extracted'):\n",
    "    os.makedirs('data3d/blue_extracted')\n",
    "'''\n",
    "if not os.path.exists('data3d/results/combined_colors_augmented'):\n",
    "    os.makedirs('data3d/results/combined_colors_augmented')    \n",
    "\n",
    "\n",
    "images = [cv2.imread(file) for file in sorted(glob.glob(\"data3d/test/*.png\"))]    \n",
    "masks = [cv2.imread(file) for file in sorted(glob.glob(\"data3d/results/*.png\"))]\n",
    "\n",
    "array_masks = np.asarray(masks)\n",
    "\n",
    "for number, image in enumerate(images):\n",
    "    #red channel represents the colon, extract it\n",
    "    red_channel = image[:,:,2]\n",
    "    #augment red channel\n",
    "    red_channel[red_channel > 70] = 255\n",
    "    blue_channel = image[:,:,0]\n",
    "    #make blue channel 0\n",
    "    blue_channel[:,:] = 0\n",
    "    #assign mask pixels to blue channel\n",
    "    blue_channel = array_masks[number,:,:,2]\n",
    "    #augment blue channel\n",
    "    blue_channel[blue_channel > 10] = 255\n",
    "    red_and_blue_img = np.zeros(image.shape)\n",
    "    red_and_blue_img[:,:,2] = red_channel\n",
    "    red_and_blue_img[:,:,0] = blue_channel\n",
    "    #combine masks and images, blue color represent masks, red color represents colon in original image\n",
    "    cv2.imwrite('data3d/results/combined_colors_augmented/'+str(number)+ '.png',red_and_blue_img)\n",
    "\n"
   ]
  },
  {
   "cell_type": "code",
   "execution_count": 3,
   "metadata": {},
   "outputs": [],
   "source": [
    "#threshold 3 color test images to visualize the colon better\n",
    "'''\n",
    "if not os.path.exists('data3d/red_extracted'):\n",
    "    os.makedirs('data3d/red_extracted')\n",
    "    \n",
    "if not os.path.exists('data3d/green_extracted'):\n",
    "    os.makedirs('data3d/green_extracted')\n",
    "\n",
    "if not os.path.exists('data3d/blue_extracted'):\n",
    "    os.makedirs('data3d/blue_extracted')\n",
    "'''\n",
    "if not os.path.exists('data3d/results/combined'):\n",
    "    os.makedirs('data3d/results/combined')    \n",
    "\n",
    "\n",
    "images = [cv2.imread(file) for file in sorted(glob.glob(\"data3d/test/*.png\"))]    \n",
    "masks = [cv2.imread(file) for file in sorted(glob.glob(\"data3d/results/*.png\"))]\n",
    "\n",
    "array_masks = np.asarray(masks)\n",
    "\n",
    "for number, image in enumerate(images):\n",
    "    #red channel represents the colon, extract it\n",
    "    red_channel = image[:,:,2]\n",
    "    blue_channel = image[:,:,0]\n",
    "    #make blue channel 0\n",
    "    blue_channel[:,:] = 0\n",
    "    #assign mask pixels to blue channel\n",
    "    blue_channel = array_masks[number,:,:,2]\n",
    "    red_and_blue_img = np.zeros(image.shape)\n",
    "    red_and_blue_img[:,:,2] = red_channel\n",
    "    red_and_blue_img[:,:,0] = blue_channel\n",
    "    #combine masks and images, blue color represent masks, red color represents colon in original image\n",
    "    cv2.imwrite('data3d/results/combined/'+str(number)+ '.png',red_and_blue_img)\n",
    "\n"
   ]
  },
  {
   "cell_type": "code",
   "execution_count": null,
   "metadata": {},
   "outputs": [],
   "source": [
    "'''\n",
    "for number, image in enumerate(images):\n",
    "    red_channel = image[:,:,2]   \n",
    "    red_img = np.zeros(image.shape)\n",
    "    red_img[:,:,2] = red_channel\n",
    "    ret,thres = cv2.threshold(red_img,50,255,cv2.THRESH_TOZERO)\n",
    "    cv2.imwrite('data3d/red_extracted/'+str(number)+ '.png',thres)\n",
    "       \n",
    "    \n",
    "for number, image in enumerate(images):\n",
    "    green_channel = image[:,:,1]\n",
    "    green_img = np.zeros(image.shape)\n",
    "    green_img[:,:,1] = green_channel\n",
    "    ret,thres = cv2.threshold(green_img,50,255,cv2.THRESH_TOZERO)\n",
    "    cv2.imwrite('data3d/green_extracted/'+str(number)+ '.png',thres)\n",
    "\n",
    "for number, image in enumerate(images):\n",
    "    blue_channel = image[:,:,0]\n",
    "    blue_img = np.zeros(image.shape)\n",
    "    blue_img[:,:,0] = blue_channel\n",
    "    ret,thres = cv2.threshold(blue_img,50,255,cv2.THRESH_TOZERO)\n",
    "    cv2.imwrite('data3d/blue_extracted/'+str(number)+ '.png',thres)\n",
    "'''   \n",
    "      "
   ]
  },
  {
   "cell_type": "code",
   "execution_count": null,
   "metadata": {},
   "outputs": [],
   "source": [
    "\n"
   ]
  },
  {
   "cell_type": "code",
   "execution_count": null,
   "metadata": {},
   "outputs": [],
   "source": []
  }
 ],
 "metadata": {
  "kernelspec": {
   "display_name": "unet",
   "language": "python",
   "name": "unet"
  },
  "language_info": {
   "codemirror_mode": {
    "name": "ipython",
    "version": 3
   },
   "file_extension": ".py",
   "mimetype": "text/x-python",
   "name": "python",
   "nbconvert_exporter": "python",
   "pygments_lexer": "ipython3",
   "version": "3.5.6"
  }
 },
 "nbformat": 4,
 "nbformat_minor": 2
}
