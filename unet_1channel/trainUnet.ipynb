{
 "cells": [
  {
   "cell_type": "code",
   "execution_count": 2,
   "metadata": {},
   "outputs": [
    {
     "name": "stderr",
     "output_type": "stream",
     "text": [
      "Using TensorFlow backend.\n"
     ]
    }
   ],
   "source": [
    "from model import *\n",
    "from data import *"
   ]
  },
  {
   "cell_type": "markdown",
   "metadata": {},
   "source": [
    "## Train your Unet with membrane data\n",
    "membrane data is in folder membrane/, it is a binary classification task.\n",
    "\n",
    "The input shape of image and mask are the same :(batch_size,rows,cols,channel = 1)"
   ]
  },
  {
   "cell_type": "markdown",
   "metadata": {},
   "source": [
    "### Train with data generator"
   ]
  },
  {
   "cell_type": "code",
   "execution_count": 2,
   "metadata": {},
   "outputs": [
    {
     "name": "stderr",
     "output_type": "stream",
     "text": [
      "/home/asli/Desktop/unet-master/model.py:55: UserWarning: Update your `Model` call to the Keras 2 API: `Model(outputs=Tensor(\"co..., inputs=Tensor(\"in...)`\n",
      "  model = Model(input = inputs, output = conv10)\n"
     ]
    },
    {
     "name": "stdout",
     "output_type": "stream",
     "text": [
      "Epoch 1/1\n",
      "Found 55 images belonging to 1 classes.\n",
      "Found 55 images belonging to 1 classes.\n",
      "200/200 [==============================] - 1615s 8s/step - loss: 0.6888 - accuracy: 0.9896\n",
      "\n",
      "Epoch 00001: loss improved from inf to 0.68883, saving model to unet_membrane.hdf5\n"
     ]
    },
    {
     "data": {
      "text/plain": [
       "<keras.callbacks.callbacks.History at 0x7f144c1f0ac8>"
      ]
     },
     "execution_count": 2,
     "metadata": {},
     "output_type": "execute_result"
    }
   ],
   "source": [
    "data_gen_args = dict(rotation_range=0.2,\n",
    "                    width_shift_range=0.05,\n",
    "                    height_shift_range=0.05,\n",
    "                    shear_range=0.05,\n",
    "                    zoom_range=0.05,\n",
    "                    horizontal_flip=True,\n",
    "                    fill_mode='nearest')\n",
    "myGene = trainGenerator(2,'data/membrane/train','image','label',data_gen_args,save_to_dir = None)\n",
    "model = unet()\n",
    "model_checkpoint = ModelCheckpoint('unet_membrane.hdf5', monitor='loss',verbose=1, save_best_only=True)\n",
    "model.fit_generator(myGene,steps_per_epoch=200,epochs=1,callbacks=[model_checkpoint])"
   ]
  },
  {
   "cell_type": "markdown",
   "metadata": {},
   "source": [
    "### Train with npy file"
   ]
  },
  {
   "cell_type": "code",
   "execution_count": null,
   "metadata": {},
   "outputs": [],
   "source": [
    "#imgs_train,imgs_mask_train = geneTrainNpy(\"data/membrane/train/aug/\",\"data/membrane/train/aug/\")\n",
    "#model.fit(imgs_train, imgs_mask_train, batch_size=2, nb_epoch=10, verbose=1,validation_split=0.2, shuffle=True, callbacks=[model_checkpoint])"
   ]
  },
  {
   "cell_type": "markdown",
   "metadata": {},
   "source": [
    "### test your model and save predicted results"
   ]
  },
  {
   "cell_type": "code",
   "execution_count": 3,
   "metadata": {},
   "outputs": [
    {
     "name": "stderr",
     "output_type": "stream",
     "text": [
      "/home/asli/Desktop/unet-master/model.py:55: UserWarning: Update your `Model` call to the Keras 2 API: `Model(inputs=Tensor(\"in..., outputs=Tensor(\"co...)`\n",
      "  model = Model(input = inputs, output = conv10)\n"
     ]
    },
    {
     "name": "stdout",
     "output_type": "stream",
     "text": [
      "10/10 [==============================] - 7s 744ms/step\n"
     ]
    },
    {
     "name": "stderr",
     "output_type": "stream",
     "text": [
      "/home/asli/anaconda3/envs/unet/lib/python3.5/site-packages/skimage/io/_io.py:141: UserWarning: data/membrane/test/0_predict.png is a low contrast image\n",
      "  warn('%s is a low contrast image' % fname)\n",
      "Lossy conversion from float32 to uint8. Range [0, 1]. Convert image to uint8 prior to saving to suppress this warning.\n",
      "/home/asli/anaconda3/envs/unet/lib/python3.5/site-packages/skimage/io/_io.py:141: UserWarning: data/membrane/test/1_predict.png is a low contrast image\n",
      "  warn('%s is a low contrast image' % fname)\n",
      "Lossy conversion from float32 to uint8. Range [0, 1]. Convert image to uint8 prior to saving to suppress this warning.\n",
      "/home/asli/anaconda3/envs/unet/lib/python3.5/site-packages/skimage/io/_io.py:141: UserWarning: data/membrane/test/2_predict.png is a low contrast image\n",
      "  warn('%s is a low contrast image' % fname)\n",
      "Lossy conversion from float32 to uint8. Range [0, 1]. Convert image to uint8 prior to saving to suppress this warning.\n",
      "/home/asli/anaconda3/envs/unet/lib/python3.5/site-packages/skimage/io/_io.py:141: UserWarning: data/membrane/test/3_predict.png is a low contrast image\n",
      "  warn('%s is a low contrast image' % fname)\n",
      "Lossy conversion from float32 to uint8. Range [0, 1]. Convert image to uint8 prior to saving to suppress this warning.\n",
      "/home/asli/anaconda3/envs/unet/lib/python3.5/site-packages/skimage/io/_io.py:141: UserWarning: data/membrane/test/4_predict.png is a low contrast image\n",
      "  warn('%s is a low contrast image' % fname)\n",
      "Lossy conversion from float32 to uint8. Range [0, 1]. Convert image to uint8 prior to saving to suppress this warning.\n",
      "/home/asli/anaconda3/envs/unet/lib/python3.5/site-packages/skimage/io/_io.py:141: UserWarning: data/membrane/test/5_predict.png is a low contrast image\n",
      "  warn('%s is a low contrast image' % fname)\n",
      "Lossy conversion from float32 to uint8. Range [0, 1]. Convert image to uint8 prior to saving to suppress this warning.\n",
      "/home/asli/anaconda3/envs/unet/lib/python3.5/site-packages/skimage/io/_io.py:141: UserWarning: data/membrane/test/6_predict.png is a low contrast image\n",
      "  warn('%s is a low contrast image' % fname)\n",
      "Lossy conversion from float32 to uint8. Range [0, 1]. Convert image to uint8 prior to saving to suppress this warning.\n",
      "/home/asli/anaconda3/envs/unet/lib/python3.5/site-packages/skimage/io/_io.py:141: UserWarning: data/membrane/test/7_predict.png is a low contrast image\n",
      "  warn('%s is a low contrast image' % fname)\n",
      "Lossy conversion from float32 to uint8. Range [0, 1]. Convert image to uint8 prior to saving to suppress this warning.\n",
      "/home/asli/anaconda3/envs/unet/lib/python3.5/site-packages/skimage/io/_io.py:141: UserWarning: data/membrane/test/8_predict.png is a low contrast image\n",
      "  warn('%s is a low contrast image' % fname)\n",
      "Lossy conversion from float32 to uint8. Range [0, 1]. Convert image to uint8 prior to saving to suppress this warning.\n",
      "/home/asli/anaconda3/envs/unet/lib/python3.5/site-packages/skimage/io/_io.py:141: UserWarning: data/membrane/test/9_predict.png is a low contrast image\n",
      "  warn('%s is a low contrast image' % fname)\n",
      "Lossy conversion from float32 to uint8. Range [0, 1]. Convert image to uint8 prior to saving to suppress this warning.\n"
     ]
    }
   ],
   "source": [
    "testGene = testGenerator(\"data/membrane/test\")\n",
    "model = unet()\n",
    "model.load_weights(\"unet_membrane.hdf5\")\n",
    "results = model.predict_generator(testGene,10,verbose=1)\n",
    "saveResult(\"data/membrane/test\",results)"
   ]
  },
  {
   "cell_type": "code",
   "execution_count": 7,
   "metadata": {},
   "outputs": [
    {
     "data": {
      "text/plain": [
       "{0.49501356, 0.49547693}"
      ]
     },
     "execution_count": 7,
     "metadata": {},
     "output_type": "execute_result"
    }
   ],
   "source": [
    "set(results[0].ravel())"
   ]
  },
  {
   "cell_type": "code",
   "execution_count": 13,
   "metadata": {},
   "outputs": [],
   "source": [
    "import matplotlib.pyplot as plt\n",
    "import collections"
   ]
  },
  {
   "cell_type": "code",
   "execution_count": 12,
   "metadata": {},
   "outputs": [
    {
     "data": {
      "text/plain": [
       "<matplotlib.image.AxesImage at 0x7fcbf86fe828>"
      ]
     },
     "execution_count": 12,
     "metadata": {},
     "output_type": "execute_result"
    },
    {
     "data": {
      "image/png": "[encoded data removed]",
      "text/plain": [
       "<Figure size 432x288 with 1 Axes>"
      ]
     },
     "metadata": {
      "needs_background": "light"
     },
     "output_type": "display_data"
    }
   ],
   "source": [
    "plt.imshow(results[0][:,:,0])"
   ]
  },
  {
   "cell_type": "code",
   "execution_count": 10,
   "metadata": {},
   "outputs": [
    {
     "data": {
      "text/plain": [
       "(256, 256, 1)"
      ]
     },
     "execution_count": 10,
     "metadata": {},
     "output_type": "execute_result"
    }
   ],
   "source": [
    "results[0].shape"
   ]
  },
  {
   "cell_type": "code",
   "execution_count": 15,
   "metadata": {},
   "outputs": [
    {
     "name": "stdout",
     "output_type": "stream",
     "text": [
      "Counter({0.49501356: 65535, 0.49547693: 1})\n",
      "Counter({0.49501356: 65535, 0.49547073: 1})\n",
      "Counter({0.49501356: 65535, 0.49549824: 1})\n",
      "Counter({0.49501356: 65535, 0.49547473: 1})\n",
      "Counter({0.49501356: 65535, 0.49553752: 1})\n",
      "Counter({0.49501356: 65535, 0.49546537: 1})\n",
      "Counter({0.49501356: 65535, 0.49551222: 1})\n",
      "Counter({0.49501356: 65535, 0.49549204: 1})\n",
      "Counter({0.49501356: 65535, 0.4955353: 1})\n",
      "Counter({0.49501356: 65535, 0.49547252: 1})\n"
     ]
    }
   ],
   "source": [
    "for image in results:\n",
    "    print(collections.Counter(image.ravel()))"
   ]
  },
  {
   "cell_type": "code",
   "execution_count": null,
   "metadata": {},
   "outputs": [],
   "source": []
  }
 ],
 "metadata": {
  "kernelspec": {
   "display_name": "unet",
   "language": "python",
   "name": "unet"
  },
  "language_info": {
   "codemirror_mode": {
    "name": "ipython",
    "version": 3
   },
   "file_extension": ".py",
   "mimetype": "text/x-python",
   "name": "python",
   "nbconvert_exporter": "python",
   "pygments_lexer": "ipython3",
   "version": "3.5.6"
  }
 },
 "nbformat": 4,
 "nbformat_minor": 2
}
