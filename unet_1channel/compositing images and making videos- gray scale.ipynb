{
 "cells": [
  {
   "cell_type": "code",
   "execution_count": 1,
   "metadata": {},
   "outputs": [],
   "source": [
    "from PIL import Image\n",
    "import os\n",
    "import numpy as np\n",
    "import cv2\n",
    "import glob\n",
    "\n"
   ]
  },
  {
   "cell_type": "code",
   "execution_count": 25,
   "metadata": {},
   "outputs": [],
   "source": [
    "#threshold grayscale test images to visualize the colon better\n",
    "\n",
    "if not os.path.exists('data1d/results/combined'):\n",
    "    os.makedirs('data1d/results/combined')    \n",
    "\n",
    "\n",
    "images = [cv2.imread(file) for file in sorted(glob.glob(\"data1d/test/*.png\"))]    \n",
    "masks = [cv2.imread(file) for file in sorted(glob.glob(\"data1d/results/*.png\"))]\n",
    "\n",
    "\n",
    "array_masks = np.asarray(masks)\n",
    "\n",
    "for number, image in enumerate(images):\n",
    "    #red channel represents the colon, extract it\n",
    "    red_channel = image[:,:,2]\n",
    "    #red_channel[red_channel > 100] = 255\n",
    "    blue_channel = image[:,:,0]\n",
    "    #make blue channel 0\n",
    "    blue_channel[:,:] = 0\n",
    "    #assign mask pixels to blue channel\n",
    "    blue_channel = array_masks[number,:,:,2]\n",
    "    #augment blue channel\n",
    "    blue_channel[blue_channel > 100] = 150\n",
    "    red_and_blue_img = np.zeros(image.shape)\n",
    "    red_and_blue_img[:,:,2] = red_channel\n",
    "    red_and_blue_img[:,:,0] = blue_channel\n",
    "    #combine masks and images, blue color represent masks, red color represents colon in original image\n",
    "    cv2.imwrite('data1d/results/combined/'+str(number)+ '.png',red_and_blue_img)\n"
   ]
  },
  {
   "cell_type": "code",
   "execution_count": null,
   "metadata": {},
   "outputs": [],
   "source": []
  },
  {
   "cell_type": "code",
   "execution_count": null,
   "metadata": {},
   "outputs": [],
   "source": []
  }
 ],
 "metadata": {
  "kernelspec": {
   "display_name": "unet",
   "language": "python",
   "name": "unet"
  },
  "language_info": {
   "codemirror_mode": {
    "name": "ipython",
    "version": 3
   },
   "file_extension": ".py",
   "mimetype": "text/x-python",
   "name": "python",
   "nbconvert_exporter": "python",
   "pygments_lexer": "ipython3",
   "version": "3.5.6"
  }
 },
 "nbformat": 4,
 "nbformat_minor": 2
}
